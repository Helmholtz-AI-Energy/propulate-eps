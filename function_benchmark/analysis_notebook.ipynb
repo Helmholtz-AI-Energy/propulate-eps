{
 "cells": [
  {
   "cell_type": "code",
   "execution_count": 1,
   "metadata": {},
   "outputs": [],
   "source": [
    "from pathlib import Path\n",
    "import pandas as pd\n",
    "import numpy as np\n",
    "import json\n",
    "pd.set_option('display.max_rows', 500)\n",
    "pd.set_option('display.max_columns', 500)\n",
    "pd.set_option('display.width', 1000)\n",
    "from IPython.core.interactiveshell import InteractiveShell\n",
    "InteractiveShell.ast_node_interactivity = \"all\"\n"
   ]
  },
  {
   "cell_type": "code",
   "execution_count": 8,
   "outputs": [
    {
     "name": "stdout",
     "output_type": "stream",
     "text": [
      "quartic\n",
      "      index  islands  migration  pollination  mate_prob  mut_prob  rand_prob  lossmean   lossmin   lossmax   lossstd    genmean     genmin      genmax  counts\n",
      "2155   2155        8        0.7         True      0.550     0.550      0.775  0.000795  0.000182  0.001429  0.000525  96.750000  39.000000  204.000000       4\n",
      "2158   2158        8        0.7         True      0.550     0.775      0.550  0.002209  0.001219  0.002778  0.000590  89.250000  40.000000  138.000000       4\n",
      "2081   2081        8        0.7        False      0.550     0.100      0.325  0.001345  0.000869  0.002391  0.000611  83.041667  66.250000  114.083333       4\n",
      "2090   2090        8        0.7        False      0.550     0.550      0.550  0.002382  0.001774  0.003437  0.000662  95.177083  67.291667  121.250000       4\n",
      "2927   2927       16        0.7         True      0.550     0.775      0.775  0.001721  0.000033  0.002843  0.001040  92.750000  17.000000  144.000000       4\n",
      "2938   2938       16        0.7         True      0.775     0.550      0.550  0.002034  0.001062  0.003854  0.001099  75.760417  55.000000  124.041667       4\n",
      "2873   2873       16        0.7        False      0.775     0.550      0.325  0.002469  0.000599  0.003761  0.001223  96.671875  72.604167  135.916667       4\n",
      "2926   2926       16        0.7         True      0.550     0.775      0.550  0.004200  0.002396  0.006647  0.001789  50.000000  16.000000   85.000000       4\n",
      "3709   3709       36        0.7         True      0.775     0.775      0.325  0.006903  0.002714  0.010535  0.002882  91.000000  21.000000  137.000000       4\n",
      "2145   2145        8        0.7         True      0.550     0.100      0.325  0.002459  0.000047  0.008032  0.003237  82.250000  21.000000  197.000000       4\n",
      "3691   3691       36        0.7         True      0.550     0.550      0.775  0.007366  0.000568  0.026218  0.010897  83.250000  34.000000  134.000000       4\n",
      "2932   2932       16        0.7         True      0.775     0.325      0.100  0.014508  0.000838  0.043040  0.016668  31.250000  18.000000   61.000000       4\n",
      "3706   3706       36        0.7         True      0.775     0.550      0.550  0.024147  0.003609  0.080090  0.032376  71.250000  27.000000  124.000000       4\n",
      "3697   3697       36        0.7         True      0.775     0.100      0.325  0.132748  0.000915  0.510512  0.218183  62.500000  31.000000  107.000000       4\n",
      "2943   2943       16        0.7         True      0.775     0.775      0.775  0.159974  0.005629  0.594868  0.251239  72.791667  53.166667   87.000000       4\n",
      "rastrigin\n",
      "      index  islands  migration  pollination  mate_prob  mut_prob  rand_prob  lossmean   lossmin   lossmax   lossstd     genmean      genmin      genmax  counts\n",
      "4209   4209       36        0.7         True      0.775     0.100      0.325  0.004667  0.002892  0.005745  0.001031  234.281481  189.407407  254.000000       5\n",
      "4195   4195       36        0.7         True      0.550     0.100      0.775  0.006760  0.005588  0.008400  0.001169  236.666667  221.000000  254.000000       6\n",
      "4194   4194       36        0.7         True      0.550     0.100      0.550  0.005946  0.003853  0.009215  0.001772  211.500000  181.000000  244.000000       6\n",
      "4192   4192       36        0.7         True      0.550     0.100      0.100  0.007216  0.003940  0.010635  0.002065  220.543210  195.759259  253.000000       6\n",
      "4210   4210       36        0.7         True      0.775     0.100      0.550  0.004767  0.002577  0.008587  0.002097  232.370370  218.000000  254.851852       5\n",
      "4193   4193       36        0.7         True      0.550     0.100      0.325  0.007895  0.004739  0.010732  0.002130  235.367670  189.000000  252.935185       6\n",
      "4208   4208       36        0.7         True      0.775     0.100      0.100  0.006370  0.003899  0.009738  0.002398  237.800000  206.000000  253.000000       5\n",
      "4198   4198       36        0.7         True      0.550     0.325      0.550  0.009197  0.005192  0.011736  0.002503  227.077160  206.000000  248.462963       6\n",
      "4211   4211       36        0.7         True      0.775     0.100      0.775  0.006028  0.002725  0.011030  0.002839  240.949537  235.000000  250.562500       5\n",
      "4217   4217       36        0.7         True      0.775     0.550      0.325  0.028579  0.024904  0.033706  0.003119  237.400000  225.000000  245.000000       5\n",
      "4212   4212       36        0.7         True      0.775     0.325      0.100  0.010349  0.004719  0.015141  0.003563  227.822222  205.000000  247.000000       5\n",
      "4197   4197       36        0.7         True      0.550     0.325      0.325  0.013565  0.007938  0.019268  0.003605  229.228395  170.000000  248.462963       6\n",
      "3301   3301       16        0.7         True      0.550     0.325      0.325  0.019490  0.012230  0.023450  0.004107  205.909722  129.458333  251.000000       6\n",
      "4201   4201       36        0.7         True      0.550     0.550      0.325  0.021401  0.015405  0.028464  0.004117  224.357639  189.583333  243.000000       6\n",
      "4196   4196       36        0.7         True      0.550     0.325      0.100  0.010603  0.005594  0.017749  0.004123  230.373457  204.000000  249.000000       6\n",
      "birastrigin\n",
      "      index  islands  migration  pollination  mate_prob  mut_prob  rand_prob   lossmean    lossmin    lossmax   lossstd     genmean      genmin      genmax  counts\n",
      "4210   4210       36        0.7         True      0.775     0.100      0.550  34.253302  34.238604  34.267529  0.011698  236.070370  219.000000  252.000000       5\n",
      "3298   3298       16        0.7         True      0.550     0.100      0.550  34.359426  34.340041  34.382158  0.015319  210.187500  119.937500  244.854167       6\n",
      "4193   4193       36        0.7         True      0.550     0.100      0.325  34.234961  34.211259  34.254199  0.016907  244.000000  236.000000  252.000000       5\n",
      "4203   4203       36        0.7         True      0.550     0.550      0.775  34.400151  34.358128  34.425263  0.026521  225.200000  211.000000  254.000000       5\n",
      "4198   4198       36        0.7         True      0.550     0.325      0.550  34.318440  34.273620  34.359054  0.029392  216.614815  179.074074  232.000000       5\n",
      "3313   3313       16        0.7         True      0.775     0.100      0.325  34.351938  34.320845  34.403254  0.031059  209.579861  162.687500  246.041667       6\n",
      "4195   4195       36        0.7         True      0.550     0.100      0.775  34.236321  34.198814  34.285782  0.032212  238.627778  227.129630  252.009259       5\n",
      "3302   3302       16        0.7         True      0.550     0.325      0.550  34.419772  34.369348  34.458949  0.032865  210.465278  175.000000  238.250000       6\n",
      "3315   3315       16        0.7         True      0.775     0.100      0.775  34.411279  34.337140  34.449365  0.036242  219.055556  197.000000  236.562500       6\n",
      "3296   3296       16        0.7         True      0.550     0.100      0.100  34.344675  34.296058  34.415068  0.038572  235.458333  184.000000  252.000000       6\n",
      "4211   4211       36        0.7         True      0.775     0.100      0.775  34.248403  34.199992  34.302938  0.038914  234.348148  215.000000  250.000000       5\n",
      "4215   4215       36        0.7         True      0.775     0.325      0.775  34.316691  34.264180  34.376924  0.039313  239.598148  205.000000  252.925926       5\n",
      "4209   4209       36        0.7         True      0.775     0.100      0.325  34.232736  34.183243  34.296994  0.040101  229.874074  190.000000  245.000000       5\n",
      "4219   4219       36        0.7         True      0.775     0.550      0.775  34.387550  34.342431  34.446700  0.042702  228.200000  205.000000  245.000000       5\n",
      "3297   3297       16        0.7         True      0.550     0.100      0.325  34.380825  34.320715  34.452242  0.044652  225.767361  210.770833  242.979167       6\n"
     ]
    }
   ],
   "source": [
    "# islands = [  2,  4,  8, 16, 36]\n",
    "# # equals  [ 72, 36, 18,  9,  4] ranks/island\n",
    "# migrations_prob = [0.01, 0.10, 0.30, 0.50, 0.70, 0.90, 0.99]\n",
    "# pollination = [True, False]\n",
    "# mate_prob = [0.1, 0.325, 0.55, 0.775]\n",
    "# mut_prob = [0.1, 0.325, 0.55, 0.775]\n",
    "# rand_prob = [0.1, 0.325, 0.55, 0.775]\n",
    "\n",
    "def pop_std(x):\n",
    "    return x.std(ddof=0)\n",
    "\n",
    "# load all data\n",
    "limits = {\n",
    "    \"quartic\": [0.5, -0.1, 0.5, 10, 100],\n",
    "    \"rastrigin\": [1., -0.1, 1.0, 0, 256],\n",
    "    \"birastrigin\": [40., -0.1, 50.0, 0, 256],\n",
    "}\n",
    "# max_gens = 256\n",
    "# full_df = []\n",
    "exps = {\n",
    "    \"quartic\": [2, 3, 4, 5],\n",
    "    \"rastrigin\": [1, 2, 3, 4, 5],\n",
    "    \"birastrigin\": [1, 2, 3, 4, 5],  #\n",
    "}\n",
    "exp_dfs = {}\n",
    "for exp in exps:  #\n",
    "    full_df = []\n",
    "    # print(exp)\n",
    "    # exp = \"birastrigin\"\n",
    "    for t in exps[exp]:\n",
    "        root = Path(\"logs/search/\")\n",
    "        name = Path(\"results/overall\")\n",
    "        res_dict = Path(f\"results/{exp}_grid_{t}.csv\")\n",
    "        df = pd.read_csv(str(res_dict))\n",
    "\n",
    "        # best = df[(df[\"loss1\"] <= limits[0]) & (df[\"loss1\"] >= limits[1]) & (df[\"gen1\"] <= max_gens)]\n",
    "        df[\"islands\"] = df[\"islands\"].replace(32, 36)  # mix up with the amount of islands (shouldnt matter too much)\n",
    "        # keep all results?? why not :shrug:\n",
    "        full_df.append(df)\n",
    "        # if full_df is None:\n",
    "        #     full_df = df\n",
    "        #     continue\n",
    "\n",
    "    # combining the dataframes together\n",
    "    # need to move through the whole file and check that all the exps are the same parameters\n",
    "    # TODO: change the 32s to 36s in rastrigin\n",
    "    full_df = pd.concat(full_df, ignore_index=True)\n",
    "    # print(full_df[\n",
    "    #     (full_df[\"islands\"] == 8) & (full_df[\"migration\"] == 0.7) & (full_df[\"pollination\"] == True) &\n",
    "    #     (full_df[\"mate_prob\"] == 0.55) & (full_df[\"mut_prob\"] == 0.1) & (full_df[\"rand_prob\"] == 0.1)\n",
    "    # ])\n",
    "    # # print(full_df[\"islands\"].unique())\n",
    "    grouped = full_df.groupby(by=[\"islands\", \"migration\", \"pollination\", \"mate_prob\", \"mut_prob\", \"rand_prob\"], as_index=False).agg({\"avg_loss\": ['mean', \"min\", \"max\", pop_std], \"avg_gen\": ['mean', 'min', 'max', 'count']})\n",
    "    grouped.columns = [\"islands\", \"migration\", \"pollination\", \"mate_prob\", \"mut_prob\", \"rand_prob\", 'lossmean', 'lossmin', 'lossmax', \"lossstd\", 'genmean', 'genmin', 'genmax', 'counts']\n",
    "    grouped = grouped.reset_index()\n",
    "    exp_dfs[exp] = grouped\n",
    "\n",
    "    # print(grouped.sort_values(by=\"lossmean\")[:15])\n",
    "    best = grouped[\n",
    "        (grouped[\"lossmean\"] <= limits[exp][0]) & (grouped[\"lossmean\"] >= limits[exp][1]) & (grouped[\"lossstd\"] <= limits[exp][2]) & (grouped[\"islands\"] <= 40) &\n",
    "        (grouped[\"mate_prob\"] > 0.5) &\n",
    "        (grouped[\"migration\"] == 0.7) & (grouped[\"genmin\"] >= limits[exp][3]) & (grouped[\"genmean\"] < limits[exp][4]) & (grouped[\"islands\"] > 4) & (grouped[\"lossstd\"] > 0.)\n",
    "    ]\n",
    "    print(exp)\n",
    "    print(best.sort_values(by=[\"lossstd\", \"lossmean\"])[:15])  # \"lossstd\",\n",
    "\n"
   ],
   "metadata": {
    "collapsed": false
   }
  },
  {
   "cell_type": "code",
   "execution_count": null,
   "metadata": {
    "pycharm": {
     "is_executing": true
    }
   },
   "outputs": [],
   "source": [
    "# find the parameters which give the best and most consistent loss values across all exps\n"
   ]
  }
 ],
 "metadata": {
  "kernelspec": {
   "display_name": "Python 3 (ipykernel)",
   "language": "python",
   "name": "python3"
  },
  "language_info": {
   "codemirror_mode": {
    "name": "ipython",
    "version": 3
   },
   "file_extension": ".py",
   "mimetype": "text/x-python",
   "name": "python",
   "nbconvert_exporter": "python",
   "pygments_lexer": "ipython3",
   "version": "3.8.10"
  }
 },
 "nbformat": 4,
 "nbformat_minor": 1
}
